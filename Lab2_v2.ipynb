{
  "nbformat": 4,
  "nbformat_minor": 0,
  "metadata": {
    "kernelspec": {
      "display_name": "Python 3",
      "language": "python",
      "name": "python3"
    },
    "language_info": {
      "codemirror_mode": {
        "name": "ipython",
        "version": 3
      },
      "file_extension": ".py",
      "mimetype": "text/x-python",
      "name": "python",
      "nbconvert_exporter": "python",
      "pygments_lexer": "ipython3",
      "version": "3.7.1"
    },
    "colab": {
      "name": "Lab2_v2.ipynb",
      "provenance": [],
      "toc_visible": true,
      "include_colab_link": true
    }
  },
  "cells": [
    {
      "cell_type": "markdown",
      "metadata": {
        "id": "view-in-github",
        "colab_type": "text"
      },
      "source": [
        "<a href=\"https://colab.research.google.com/github/alinaalborova/nlp_course/blob/master/Lab2_v2.ipynb\" target=\"_parent\"><img src=\"https://colab.research.google.com/assets/colab-badge.svg\" alt=\"Open In Colab\"/></a>"
      ]
    },
    {
      "cell_type": "markdown",
      "metadata": {
        "id": "NrcVPgnrbEZO",
        "colab_type": "text"
      },
      "source": [
        "# Майнор \"Интеллектуальный анализ данных\"\n",
        "# Курс \"Современные методы машинного обучения\"\n",
        "# Лабораторная работа №2. Распознование одежды."
      ]
    },
    {
      "cell_type": "markdown",
      "metadata": {
        "id": "jwS15_ydbEZU",
        "colab_type": "text"
      },
      "source": [
        "В данной лабораторной работе вам предлагается обучить модель на основе нейронной сети для распознавания типов одежды и сравнить ее с \"классическими\" моделями."
      ]
    },
    {
      "cell_type": "markdown",
      "metadata": {
        "id": "GSSGv3StbEZb",
        "colab_type": "text"
      },
      "source": [
        "## Данные"
      ]
    },
    {
      "cell_type": "code",
      "metadata": {
        "id": "Tn8r0N2NbEZe",
        "colab_type": "code",
        "colab": {}
      },
      "source": [
        "import numpy as np\n",
        "import pandas as pd\n",
        "import matplotlib.pyplot as plt"
      ],
      "execution_count": 0,
      "outputs": []
    },
    {
      "cell_type": "code",
      "metadata": {
        "id": "vW3S7kdtclNa",
        "colab_type": "code",
        "colab": {}
      },
      "source": [
        "from sklearn.preprocessing import label_binarize"
      ],
      "execution_count": 0,
      "outputs": []
    },
    {
      "cell_type": "code",
      "metadata": {
        "id": "EmRMp8D9bEZo",
        "colab_type": "code",
        "colab": {}
      },
      "source": [
        "def load_mnist(path, kind='train'):\n",
        "    import os\n",
        "    import gzip\n",
        "    import numpy as np\n",
        "\n",
        "    \"\"\"Load MNIST data from `path`\"\"\"\n",
        "    labels_path = os.path.join(path,\n",
        "                               '%s-labels-idx1-ubyte.gz'\n",
        "                               % kind)\n",
        "    images_path = os.path.join(path,\n",
        "                               '%s-images-idx3-ubyte.gz'\n",
        "                               % kind)\n",
        "\n",
        "    with gzip.open(labels_path, 'rb') as lbpath:\n",
        "        labels = np.frombuffer(lbpath.read(), dtype=np.uint8,\n",
        "                               offset=8)\n",
        "\n",
        "    with gzip.open(images_path, 'rb') as imgpath:\n",
        "        images = np.frombuffer(imgpath.read(), dtype=np.uint8,\n",
        "                               offset=16).reshape(len(labels), 784)\n",
        "\n",
        "    return images, labels"
      ],
      "execution_count": 0,
      "outputs": []
    },
    {
      "cell_type": "code",
      "metadata": {
        "id": "eFTFFn9ZbEZt",
        "colab_type": "code",
        "colab": {}
      },
      "source": [
        "X_train, y_train = load_mnist('data', kind='train')\n",
        "X_test, y_test = load_mnist('data', kind='t10k')"
      ],
      "execution_count": 0,
      "outputs": []
    },
    {
      "cell_type": "code",
      "metadata": {
        "id": "exinoWUrbEZ6",
        "colab_type": "code",
        "outputId": "490a2428-7414-498e-c1a1-a0c2e2cf9f9b",
        "colab": {
          "base_uri": "https://localhost:8080/",
          "height": 50
        }
      },
      "source": [
        "print('X_train shape:', X_train.shape, 'y_train shape:', y_train.shape, 'type', type(X_train))\n",
        "print('X_test shape:', X_test.shape, 'y_test shape', y_test.shape, 'type', type(X_test))"
      ],
      "execution_count": 83,
      "outputs": [
        {
          "output_type": "stream",
          "text": [
            "X_train shape: (60000, 784) y_train shape: (60000,) type <class 'numpy.ndarray'>\n",
            "X_test shape: (10000, 784) y_test shape (10000,) type <class 'numpy.ndarray'>\n"
          ],
          "name": "stdout"
        }
      ]
    },
    {
      "cell_type": "markdown",
      "metadata": {
        "id": "VH20N2RlbEaA",
        "colab_type": "text"
      },
      "source": [
        "Каждая строка в `X_train`, `X_test` - векторизованное монохромное изображение размерности  28×28  \n",
        "Каждая строка в `y_train`, `y_test` - метка класса для соответсвующей строчки из `X_train`, `X_test`\n"
      ]
    },
    {
      "cell_type": "code",
      "metadata": {
        "id": "wpcEIgB4bEaF",
        "colab_type": "code",
        "colab": {}
      },
      "source": [
        "labels_map  = pd.read_csv('data/labels_map.csv', index_col='Label')"
      ],
      "execution_count": 0,
      "outputs": []
    },
    {
      "cell_type": "markdown",
      "metadata": {
        "id": "-wBrIAiMbEaR",
        "colab_type": "text"
      },
      "source": [
        "Для каждого объекта из обучающей и тестовой выборки назначен один из следующих классов:"
      ]
    },
    {
      "cell_type": "code",
      "metadata": {
        "id": "n2S5yFUAbEaV",
        "colab_type": "code",
        "outputId": "dbe80f77-83d4-468e-b235-e8ab50ae871b",
        "colab": {
          "base_uri": "https://localhost:8080/",
          "height": 375
        }
      },
      "source": [
        "labels_map"
      ],
      "execution_count": 96,
      "outputs": [
        {
          "output_type": "execute_result",
          "data": {
            "text/html": [
              "<div>\n",
              "<style scoped>\n",
              "    .dataframe tbody tr th:only-of-type {\n",
              "        vertical-align: middle;\n",
              "    }\n",
              "\n",
              "    .dataframe tbody tr th {\n",
              "        vertical-align: top;\n",
              "    }\n",
              "\n",
              "    .dataframe thead th {\n",
              "        text-align: right;\n",
              "    }\n",
              "</style>\n",
              "<table border=\"1\" class=\"dataframe\">\n",
              "  <thead>\n",
              "    <tr style=\"text-align: right;\">\n",
              "      <th></th>\n",
              "      <th>Description</th>\n",
              "    </tr>\n",
              "    <tr>\n",
              "      <th>Label</th>\n",
              "      <th></th>\n",
              "    </tr>\n",
              "  </thead>\n",
              "  <tbody>\n",
              "    <tr>\n",
              "      <th>0</th>\n",
              "      <td>T-shirt/top</td>\n",
              "    </tr>\n",
              "    <tr>\n",
              "      <th>1</th>\n",
              "      <td>Trouser</td>\n",
              "    </tr>\n",
              "    <tr>\n",
              "      <th>2</th>\n",
              "      <td>Pullover</td>\n",
              "    </tr>\n",
              "    <tr>\n",
              "      <th>3</th>\n",
              "      <td>Dress</td>\n",
              "    </tr>\n",
              "    <tr>\n",
              "      <th>4</th>\n",
              "      <td>Coat</td>\n",
              "    </tr>\n",
              "    <tr>\n",
              "      <th>5</th>\n",
              "      <td>Sandal</td>\n",
              "    </tr>\n",
              "    <tr>\n",
              "      <th>6</th>\n",
              "      <td>Shirt</td>\n",
              "    </tr>\n",
              "    <tr>\n",
              "      <th>7</th>\n",
              "      <td>Sneaker</td>\n",
              "    </tr>\n",
              "    <tr>\n",
              "      <th>8</th>\n",
              "      <td>Bag</td>\n",
              "    </tr>\n",
              "    <tr>\n",
              "      <th>9</th>\n",
              "      <td>Ankle boot</td>\n",
              "    </tr>\n",
              "  </tbody>\n",
              "</table>\n",
              "</div>"
            ],
            "text/plain": [
              "       Description\n",
              "Label             \n",
              "0      T-shirt/top\n",
              "1          Trouser\n",
              "2         Pullover\n",
              "3            Dress\n",
              "4             Coat\n",
              "5           Sandal\n",
              "6            Shirt\n",
              "7          Sneaker\n",
              "8              Bag\n",
              "9       Ankle boot"
            ]
          },
          "metadata": {
            "tags": []
          },
          "execution_count": 96
        }
      ]
    },
    {
      "cell_type": "code",
      "metadata": {
        "id": "Hh8ToJstbEaf",
        "colab_type": "code",
        "colab": {}
      },
      "source": [
        "pic_id = 40\n",
        "some_pic = X_train[pic_id]\n",
        "pic_label = y_train[pic_id]"
      ],
      "execution_count": 0,
      "outputs": []
    },
    {
      "cell_type": "code",
      "metadata": {
        "id": "UMtJbm2ZbEat",
        "colab_type": "code",
        "outputId": "128da70f-8d25-4a5b-c9bd-00c5e6859d85",
        "colab": {
          "base_uri": "https://localhost:8080/",
          "height": 33
        }
      },
      "source": [
        "print('Letter class:', pic_label, '-', labels_map.loc[pic_label, 'Description'])"
      ],
      "execution_count": 87,
      "outputs": [
        {
          "output_type": "stream",
          "text": [
            "Letter class: 6 - Shirt\n"
          ],
          "name": "stdout"
        }
      ]
    },
    {
      "cell_type": "code",
      "metadata": {
        "id": "6_uptH43bEay",
        "colab_type": "code",
        "outputId": "785fe4b8-a8bc-4f4d-dde9-1216cb999ffc",
        "colab": {
          "base_uri": "https://localhost:8080/",
          "height": 265
        }
      },
      "source": [
        "plt.imshow(some_pic.reshape((28, 28)), cmap='gray')\n",
        "plt.show()"
      ],
      "execution_count": 88,
      "outputs": [
        {
          "output_type": "display_data",
          "data": {
            "image/png": "[encoded data removed]",
            "text/plain": [
              "<Figure size 432x288 with 1 Axes>"
            ]
          },
          "metadata": {
            "tags": []
          }
        }
      ]
    },
    {
      "cell_type": "code",
      "metadata": {
        "id": "ygMASFXhDApH",
        "colab_type": "code",
        "colab": {
          "base_uri": "https://localhost:8080/",
          "height": 265
        },
        "outputId": "c9936de9-dd1d-4d74-98b8-e8eef582c9b0"
      },
      "source": [
        "plt.figure()\n",
        "plt.imshow(some_pic.reshape(28,28))\n",
        "plt.colorbar()\n",
        "plt.grid(False)\n",
        "plt.show()"
      ],
      "execution_count": 70,
      "outputs": [
        {
          "output_type": "display_data",
          "data": {
            "image/png": "[encoded data removed]",
            "text/plain": [
              "<Figure size 432x288 with 2 Axes>"
            ]
          },
          "metadata": {
            "tags": []
          }
        }
      ]
    },
    {
      "cell_type": "code",
      "metadata": {
        "id": "u6hGOUIhG4UW",
        "colab_type": "code",
        "colab": {}
      },
      "source": [
        "X_train = X_train / 255.0\n",
        "\n",
        "X_test = X_test / 255.0"
      ],
      "execution_count": 0,
      "outputs": []
    },
    {
      "cell_type": "code",
      "metadata": {
        "id": "JqoocE30HT-M",
        "colab_type": "code",
        "colab": {
          "base_uri": "https://localhost:8080/",
          "height": 578
        },
        "outputId": "aab64a88-4e59-4558-a211-2be7319daca3"
      },
      "source": [
        "plt.figure(figsize=(10,10))\n",
        "for i in range(25):\n",
        "    plt.subplot(5,5,i+1)\n",
        "    plt.xticks([])\n",
        "    plt.yticks([])\n",
        "    plt.grid(False)\n",
        "    plt.imshow(X_train[i].reshape(28,28), cmap=plt.cm.binary)\n",
        "    plt.xlabel(labels_map[y_train[i]])\n",
        "plt.show()"
      ],
      "execution_count": 94,
      "outputs": [
        {
          "output_type": "display_data",
          "data": {
            "image/png": "[encoded data removed]",
            "text/plain": [
              "<Figure size 720x720 with 25 Axes>"
            ]
          },
          "metadata": {
            "tags": []
          }
        }
      ]
    },
    {
      "cell_type": "code",
      "metadata": {
        "id": "AydZl64QctlU",
        "colab_type": "code",
        "colab": {}
      },
      "source": [
        "y_train_e = label_binarize(y_train, [0, 1, 2, 3, 4, 5, 6, 7, 8, 9])"
      ],
      "execution_count": 0,
      "outputs": []
    },
    {
      "cell_type": "code",
      "metadata": {
        "id": "_-zko32mdHth",
        "colab_type": "code",
        "colab": {}
      },
      "source": [
        "y_test_e = label_binarize(y_test, range(10))"
      ],
      "execution_count": 0,
      "outputs": []
    },
    {
      "cell_type": "code",
      "metadata": {
        "id": "dtCtSxShdP9D",
        "colab_type": "code",
        "colab": {
          "base_uri": "https://localhost:8080/",
          "height": 134
        },
        "outputId": "0e6f0f57-fabd-4c28-bb39-3cc748a039ea"
      },
      "source": [
        "y_test_e"
      ],
      "execution_count": 198,
      "outputs": [
        {
          "output_type": "execute_result",
          "data": {
            "text/plain": [
              "array([[0, 0, 0, ..., 0, 0, 1],\n",
              "       [0, 0, 1, ..., 0, 0, 0],\n",
              "       [0, 1, 0, ..., 0, 0, 0],\n",
              "       ...,\n",
              "       [0, 0, 0, ..., 0, 1, 0],\n",
              "       [0, 1, 0, ..., 0, 0, 0],\n",
              "       [0, 0, 0, ..., 0, 0, 0]])"
            ]
          },
          "metadata": {
            "tags": []
          },
          "execution_count": 198
        }
      ]
    },
    {
      "cell_type": "code",
      "metadata": {
        "id": "Q_mUySkTt5Qm",
        "colab_type": "code",
        "colab": {}
      },
      "source": [
        "from sklearn.metrics import roc_curve, precision_recall_curve, average_precision_score, classification_report, multilabel_confusion_matrix"
      ],
      "execution_count": 0,
      "outputs": []
    },
    {
      "cell_type": "markdown",
      "metadata": {
        "id": "qKyfaLfJbEa-",
        "colab_type": "text"
      },
      "source": [
        "## Задания"
      ]
    },
    {
      "cell_type": "markdown",
      "metadata": {
        "id": "_zeITL-ObEbA",
        "colab_type": "text"
      },
      "source": [
        "Обучение неоходимо проводить на данных из `X_train`, качество модели проверять на данных из файла `X_test`.\n",
        "Для моделирования желательно использовать библиотеки `keras` и `tensorflow`.  "
      ]
    },
    {
      "cell_type": "markdown",
      "metadata": {
        "id": "rPOYwHPWbEbB",
        "colab_type": "text"
      },
      "source": [
        "Оценивать качество моделей нужно следующим образом:  \n",
        "1. Построить кривую ROC  \n",
        "2. Посчитать ROC AUC  \n",
        "3. Построить кривую Precision - Recall  \n",
        "4. Вывести `classification_report` из `sklearn.metrics`  \n",
        "5. Посчитать confussion matrix  "
      ]
    },
    {
      "cell_type": "markdown",
      "metadata": {
        "id": "YjsjYS-XGb9R",
        "colab_type": "text"
      },
      "source": [
        "#### Auxiliary Evaluation Functions"
      ]
    },
    {
      "cell_type": "code",
      "metadata": {
        "id": "sNCY-EI-HxxZ",
        "colab_type": "code",
        "colab": {}
      },
      "source": [
        "def roc_auc_plt(y_test, preds):\n",
        "  fpr = dict()\n",
        "  tpr = dict()\n",
        "  roc_auc = dict()\n",
        "  for i in range(10):\n",
        "      fpr[i], tpr[i], _ = roc_curve(y_test[:, i], preds[:, i])\n",
        "      roc_auc[i] = auc(fpr[i], tpr[i])\n",
        "  fpr[\"micro\"], tpr[\"micro\"], _ = roc_curve(y_test.ravel(), preds.ravel())\n",
        "  roc_auc[\"micro\"] = auc(fpr[\"micro\"], tpr[\"micro\"])\n",
        "  plt.figure()\n",
        "  lw = 2\n",
        "  plt.plot(fpr[2], tpr[2], color='darkorange',\n",
        "          lw=lw, label='ROC curve (area = %0.2f)' % roc_auc[2])\n",
        "  plt.plot([0, 1], [0, 1], color='navy', lw=lw, linestyle='--')\n",
        "  plt.xlim([0.0, 1.0])\n",
        "  plt.ylim([0.0, 1.05])\n",
        "  plt.xlabel('False Positive Rate')\n",
        "  plt.ylabel('True Positive Rate')\n",
        "  plt.title('Receiver operating characteristic')\n",
        "  plt.legend(loc=\"lower right\")\n",
        "  plt.show()"
      ],
      "execution_count": 0,
      "outputs": []
    },
    {
      "cell_type": "code",
      "metadata": {
        "id": "tZZ7a0_nH3AG",
        "colab_type": "code",
        "colab": {}
      },
      "source": [
        "def precision_recall_plot(y_test, preds):\n",
        "  precision = dict()\n",
        "  recall = dict()\n",
        "  average_precision = dict()\n",
        "  for i in range(n_classes):\n",
        "      precision[i], recall[i], _ = precision_recall_curve(y_test[:, i],\n",
        "                                                          preds[:, i])\n",
        "      average_precision[i] = average_precision_score(y_test[:, i], preds[:, i])\n",
        "\n",
        "  # A \"micro-average\": quantifying score on all classes jointly\n",
        "  precision[\"micro\"], recall[\"micro\"], _ = precision_recall_curve(y_test.ravel(),\n",
        "      preds.ravel())\n",
        "  average_precision[\"micro\"] = average_precision_score(y_test, preds,\n",
        "                                                      average=\"micro\")\n",
        "  print('Average precision score, micro-averaged over all classes: {0:0.2f}'\n",
        "        .format(average_precision[\"micro\"]))\n",
        "  plt.figure()\n",
        "  plt.step(recall['micro'], precision['micro'], where='post')\n",
        "\n",
        "  plt.xlabel('Recall')\n",
        "  plt.ylabel('Precision')\n",
        "  plt.ylim([0.0, 1.05])\n",
        "  plt.xlim([0.0, 1.0])\n",
        "  plt.title(\n",
        "      'Average precision score, micro-averaged over all classes: AP={0:0.2f}'\n",
        "      .format(average_precision[\"micro\"]))"
      ],
      "execution_count": 0,
      "outputs": []
    },
    {
      "cell_type": "markdown",
      "metadata": {
        "id": "f_i1jfkPbEbD",
        "colab_type": "text"
      },
      "source": [
        "### Задание 1"
      ]
    },
    {
      "cell_type": "markdown",
      "metadata": {
        "id": "jH5qFBELbEbH",
        "colab_type": "text"
      },
      "source": [
        "Обучите классический алгоритм машинного обучения для этих данных (например, SVM, Random Forest или Gradient Boosting Trees), используя интенсивности пикселей в качестве входного вектора для классификации. Оцените ошибку.  \n",
        "**(max 3 балла)**"
      ]
    },
    {
      "cell_type": "code",
      "metadata": {
        "id": "UekGiFaTxUfL",
        "colab_type": "code",
        "colab": {}
      },
      "source": [
        "from sklearn.ensemble import RandomForestClassifier"
      ],
      "execution_count": 0,
      "outputs": []
    },
    {
      "cell_type": "code",
      "metadata": {
        "id": "aqb264RcCI4e",
        "colab_type": "code",
        "colab": {
          "base_uri": "https://localhost:8080/",
          "height": 187
        },
        "outputId": "4519ce4c-57bc-472d-ed37-22e85d86d4fd"
      },
      "source": [
        "rf = RandomForestClassifier()\n",
        "rf.fit(X_train, y_train_e)"
      ],
      "execution_count": 243,
      "outputs": [
        {
          "output_type": "stream",
          "text": [
            "/usr/local/lib/python3.6/dist-packages/sklearn/ensemble/forest.py:245: FutureWarning: The default value of n_estimators will change from 10 in version 0.20 to 100 in 0.22.\n",
            "  \"10 in version 0.20 to 100 in 0.22.\", FutureWarning)\n"
          ],
          "name": "stderr"
        },
        {
          "output_type": "execute_result",
          "data": {
            "text/plain": [
              "RandomForestClassifier(bootstrap=True, class_weight=None, criterion='gini',\n",
              "                       max_depth=None, max_features='auto', max_leaf_nodes=None,\n",
              "                       min_impurity_decrease=0.0, min_impurity_split=None,\n",
              "                       min_samples_leaf=1, min_samples_split=2,\n",
              "                       min_weight_fraction_leaf=0.0, n_estimators=10,\n",
              "                       n_jobs=None, oob_score=False, random_state=None,\n",
              "                       verbose=0, warm_start=False)"
            ]
          },
          "metadata": {
            "tags": []
          },
          "execution_count": 243
        }
      ]
    },
    {
      "cell_type": "code",
      "metadata": {
        "id": "lVRKpK5yDM9E",
        "colab_type": "code",
        "colab": {}
      },
      "source": [
        "rf_preds = rf.predict(X_test)"
      ],
      "execution_count": 0,
      "outputs": []
    },
    {
      "cell_type": "code",
      "metadata": {
        "id": "0hpHdk7WDcJq",
        "colab_type": "code",
        "colab": {}
      },
      "source": [
        "roc_auc_plt(y_test_e, rf_preds)"
      ],
      "execution_count": 0,
      "outputs": []
    },
    {
      "cell_type": "code",
      "metadata": {
        "id": "zBcjprzHIDZd",
        "colab_type": "code",
        "colab": {}
      },
      "source": [
        "precision_recall_plot(y_test_e, rf_preds)"
      ],
      "execution_count": 0,
      "outputs": []
    },
    {
      "cell_type": "code",
      "metadata": {
        "id": "D0wxp6gXE54j",
        "colab_type": "code",
        "colab": {}
      },
      "source": [
        " print(classification_report(y_test_e, rf_preds, labels=range(10)))"
      ],
      "execution_count": 0,
      "outputs": []
    },
    {
      "cell_type": "code",
      "metadata": {
        "id": "qx5B5djlFDER",
        "colab_type": "code",
        "colab": {}
      },
      "source": [
        "multilabel_confusion_matrix(y_test_e, rf_preds)"
      ],
      "execution_count": 0,
      "outputs": []
    },
    {
      "cell_type": "markdown",
      "metadata": {
        "id": "wIwaNvKDbEbN",
        "colab_type": "text"
      },
      "source": [
        "### Задание 2"
      ]
    },
    {
      "cell_type": "markdown",
      "metadata": {
        "id": "7HRMDsKbbEbR",
        "colab_type": "text"
      },
      "source": [
        "1. Построить и обучить модели с 2-мя и 3-мя полносвязными (dense) скрытыми слоями.\n",
        "2. Попробовать разные параметры нейронной сети - число нейронов на каждом слое, learning rate, batch size, функции активации, регуляризации и т.д. \n",
        "3. Оценить качество моделей с различными параметрами, выбрать наилучшую из рассмотренных моделей.\n",
        "\n",
        "В начале можетбыть полезно ознакомиться с [руководством по созданию последовательных моделей в Keras](https://keras.io/getting-started/sequential-model-guide).  \n",
        "А так же с [функциональным API keras](https://keras.io/getting-started/functional-api-guide). \n",
        "Создание последовательных моделей немного проще, в то время как функциональное API предоставляет больше гибкости. Для целей лабораторной работы подойдет любое.  \n",
        "**(max 4 балла)**"
      ]
    },
    {
      "cell_type": "code",
      "metadata": {
        "id": "ySuCDr4Hel2T",
        "colab_type": "code",
        "colab": {
          "base_uri": "https://localhost:8080/",
          "height": 33
        },
        "outputId": "47929fd8-5c32-4079-e249-20676cf3bd76"
      },
      "source": [
        "from __future__ import absolute_import, division, print_function, unicode_literals\n",
        "\n",
        "import tensorflow as tf\n",
        "from tensorflow import keras\n",
        "\n",
        "import numpy as np\n",
        "import matplotlib.pyplot as plt\n",
        "\n",
        "print(tf.__version__)"
      ],
      "execution_count": 117,
      "outputs": [
        {
          "output_type": "stream",
          "text": [
            "1.15.0\n"
          ],
          "name": "stdout"
        }
      ]
    },
    {
      "cell_type": "markdown",
      "metadata": {
        "id": "8qmoQkqPuXTd",
        "colab_type": "text"
      },
      "source": [
        "#### 2 Dense Layers"
      ]
    },
    {
      "cell_type": "code",
      "metadata": {
        "id": "8rJC01BcBosF",
        "colab_type": "code",
        "colab": {}
      },
      "source": [
        "model = keras.Sequential([\n",
        "    keras.layers.Dense(128, activation='relu'),\n",
        "    keras.layers.Dense(10, activation='softmax')\n",
        "])"
      ],
      "execution_count": 0,
      "outputs": []
    },
    {
      "cell_type": "code",
      "metadata": {
        "id": "9zlwOpHCB0hs",
        "colab_type": "code",
        "colab": {}
      },
      "source": [
        "model.compile(optimizer='adam',\n",
        "              loss='sparse_categorical_crossentropy',\n",
        "              metrics=['accuracy'])"
      ],
      "execution_count": 0,
      "outputs": []
    },
    {
      "cell_type": "code",
      "metadata": {
        "id": "FSFxCRH_B8EK",
        "colab_type": "code",
        "colab": {}
      },
      "source": [
        "model.fit(X_train, y_train, epochs=10)"
      ],
      "execution_count": 0,
      "outputs": []
    },
    {
      "cell_type": "code",
      "metadata": {
        "id": "qnGXUU19Jrv-",
        "colab_type": "code",
        "colab": {}
      },
      "source": [
        "predictions = model.predict(X_test)\n",
        "predicted_classes = np.array([np.argmax(i) for i in predictions])\n",
        "predicted_classes_e = label_binarize(predicted_classes, range(10))"
      ],
      "execution_count": 0,
      "outputs": []
    },
    {
      "cell_type": "code",
      "metadata": {
        "id": "55idKDY_SWrW",
        "colab_type": "code",
        "colab": {}
      },
      "source": [
        "roc_auc_plt(y_test_e, predicted_classes_e)"
      ],
      "execution_count": 0,
      "outputs": []
    },
    {
      "cell_type": "code",
      "metadata": {
        "id": "rO_L1sZ4HNrY",
        "colab_type": "code",
        "colab": {}
      },
      "source": [
        "precision_recall_plot(y_test_e, predicted_classes_e)"
      ],
      "execution_count": 0,
      "outputs": []
    },
    {
      "cell_type": "code",
      "metadata": {
        "id": "p0HRxoy7lrgY",
        "colab_type": "code",
        "colab": {}
      },
      "source": [
        " print(classification_report(y_test_e, predicted_classes_e, labels=range(10)))"
      ],
      "execution_count": 0,
      "outputs": []
    },
    {
      "cell_type": "code",
      "metadata": {
        "id": "DK9xqNyhtS5X",
        "colab_type": "code",
        "colab": {}
      },
      "source": [
        "multilabel_confusion_matrix(y_test_e, predicted_classes_e)"
      ],
      "execution_count": 0,
      "outputs": []
    },
    {
      "cell_type": "markdown",
      "metadata": {
        "id": "ri1vcjkZuxOd",
        "colab_type": "text"
      },
      "source": [
        "#### 3 Dense Layers"
      ]
    },
    {
      "cell_type": "code",
      "metadata": {
        "id": "PCDydUrXuz26",
        "colab_type": "code",
        "colab": {}
      },
      "source": [
        "model2 = keras.Sequential([\n",
        "    keras.layers.Dense(128, activation='relu'),\n",
        "    keras.layers.Dense(64, activation='relu'),\n",
        "    keras.layers.Dense(10, activation='softmax')\n",
        "])\n",
        "model2.compile(optimizer='adam',\n",
        "              loss='sparse_categorical_crossentropy',\n",
        "              metrics=['accuracy'])"
      ],
      "execution_count": 0,
      "outputs": []
    },
    {
      "cell_type": "code",
      "metadata": {
        "id": "GCliOfsevI8p",
        "colab_type": "code",
        "colab": {}
      },
      "source": [
        "model2.fit(X_train, y_train, epochs=10)"
      ],
      "execution_count": 0,
      "outputs": []
    },
    {
      "cell_type": "code",
      "metadata": {
        "id": "cnbZUmKnvZs5",
        "colab_type": "code",
        "colab": {}
      },
      "source": [
        "predictions_2 = model2.predict(X_test)\n",
        "predicted_classes_2 = np.array([np.argmax(i) for i in predictions_2])\n",
        "predicted_classes_e_2 = label_binarize(predicted_classes_2, range(10))"
      ],
      "execution_count": 0,
      "outputs": []
    },
    {
      "cell_type": "code",
      "metadata": {
        "id": "4dW-WQNHGLcq",
        "colab_type": "code",
        "colab": {}
      },
      "source": [
        "roc_auc_plt(y_test_e, predicted_classes_e_2)"
      ],
      "execution_count": 0,
      "outputs": []
    },
    {
      "cell_type": "code",
      "metadata": {
        "id": "s6rm7fLJHeyA",
        "colab_type": "code",
        "colab": {}
      },
      "source": [
        "precision_recall_plot(y_test_e, predicted_classes_e_2)"
      ],
      "execution_count": 0,
      "outputs": []
    },
    {
      "cell_type": "code",
      "metadata": {
        "id": "30qnDjYww2cM",
        "colab_type": "code",
        "colab": {}
      },
      "source": [
        " print(classification_report(y_test_e, predicted_classes_e_2, labels=range(10)))"
      ],
      "execution_count": 0,
      "outputs": []
    },
    {
      "cell_type": "code",
      "metadata": {
        "colab_type": "code",
        "id": "Dt4q4cqHxDpd",
        "colab": {}
      },
      "source": [
        "multilabel_confusion_matrix(y_test_e, predicted_classes_e_2)"
      ],
      "execution_count": 0,
      "outputs": []
    },
    {
      "cell_type": "markdown",
      "metadata": {
        "id": "CViTG4AgFigb",
        "colab_type": "text"
      },
      "source": [
        "#### 3 Danse Layers - Variation"
      ]
    },
    {
      "cell_type": "code",
      "metadata": {
        "id": "DcP4SOIeFkle",
        "colab_type": "code",
        "colab": {}
      },
      "source": [
        "model3 = keras.Sequential([\n",
        "    keras.layers.Dense(128, activation='relu'),\n",
        "    keras.layers.Dense(128, activation='relu'),\n",
        "    keras.layers.Dense(10, activation='softmax')\n",
        "])\n",
        "model3.compile(optimizer='adam',\n",
        "              loss='sparse_categorical_crossentropy',\n",
        "              metrics=['accuracy'])"
      ],
      "execution_count": 0,
      "outputs": []
    },
    {
      "cell_type": "code",
      "metadata": {
        "id": "lbr320gRIeAQ",
        "colab_type": "code",
        "colab": {
          "base_uri": "https://localhost:8080/",
          "height": 385
        },
        "outputId": "6b28b7a3-50a3-4960-d2aa-218b23cded9d"
      },
      "source": [
        "model3.fit(X_train, y_train, epochs=10)"
      ],
      "execution_count": 268,
      "outputs": [
        {
          "output_type": "stream",
          "text": [
            "Train on 60000 samples\n",
            "Epoch 1/10\n",
            "60000/60000 [==============================] - 5s 78us/sample - loss: 0.4846 - acc: 0.8242\n",
            "Epoch 2/10\n",
            "60000/60000 [==============================] - 5s 76us/sample - loss: 0.3632 - acc: 0.8656\n",
            "Epoch 3/10\n",
            "60000/60000 [==============================] - 5s 77us/sample - loss: 0.3280 - acc: 0.8783\n",
            "Epoch 4/10\n",
            "60000/60000 [==============================] - 5s 76us/sample - loss: 0.3032 - acc: 0.8876\n",
            "Epoch 5/10\n",
            "60000/60000 [==============================] - 5s 77us/sample - loss: 0.2883 - acc: 0.8928\n",
            "Epoch 6/10\n",
            "60000/60000 [==============================] - 4s 75us/sample - loss: 0.2709 - acc: 0.8989\n",
            "Epoch 7/10\n",
            "60000/60000 [==============================] - 5s 77us/sample - loss: 0.2598 - acc: 0.9021\n",
            "Epoch 8/10\n",
            "60000/60000 [==============================] - 5s 75us/sample - loss: 0.2494 - acc: 0.9060\n",
            "Epoch 9/10\n",
            "60000/60000 [==============================] - 5s 76us/sample - loss: 0.2399 - acc: 0.9103\n",
            "Epoch 10/10\n",
            "60000/60000 [==============================] - 5s 76us/sample - loss: 0.2316 - acc: 0.9118\n"
          ],
          "name": "stdout"
        },
        {
          "output_type": "execute_result",
          "data": {
            "text/plain": [
              "<tensorflow.python.keras.callbacks.History at 0x7ffa1bce09b0>"
            ]
          },
          "metadata": {
            "tags": []
          },
          "execution_count": 268
        }
      ]
    },
    {
      "cell_type": "code",
      "metadata": {
        "id": "fQydktxpIfag",
        "colab_type": "code",
        "colab": {}
      },
      "source": [
        "predictions_3 = model3.predict(X_test)\n",
        "predicted_classes_3 = np.array([np.argmax(i) for i in predictions_3])\n",
        "predicted_classes_e_3 = label_binarize(predicted_classes_3, range(10))"
      ],
      "execution_count": 0,
      "outputs": []
    },
    {
      "cell_type": "code",
      "metadata": {
        "id": "sWCdm2onIvyB",
        "colab_type": "code",
        "colab": {
          "base_uri": "https://localhost:8080/",
          "height": 295
        },
        "outputId": "0e4ec0ac-fa8f-4e53-d108-d534c0f30a4c"
      },
      "source": [
        "roc_auc_plt(y_test_e, predicted_classes_e_3)"
      ],
      "execution_count": 272,
      "outputs": [
        {
          "output_type": "display_data",
          "data": {
            "image/png": "[encoded data removed]",
            "text/plain": [
              "<Figure size 432x288 with 1 Axes>"
            ]
          },
          "metadata": {
            "tags": []
          }
        }
      ]
    },
    {
      "cell_type": "code",
      "metadata": {
        "id": "WfIcAWLrI0w7",
        "colab_type": "code",
        "colab": {
          "base_uri": "https://localhost:8080/",
          "height": 312
        },
        "outputId": "f107699e-bb7a-40ac-d013-2e019f155a1e"
      },
      "source": [
        "precision_recall_plot(y_test_e, predicted_classes_e_3)"
      ],
      "execution_count": 275,
      "outputs": [
        {
          "output_type": "stream",
          "text": [
            "Average precision score, micro-averaged over all classes: 0.79\n"
          ],
          "name": "stdout"
        },
        {
          "output_type": "display_data",
          "data": {
            "image/png": "[encoded data removed]",
            "text/plain": [
              "<Figure size 432x288 with 1 Axes>"
            ]
          },
          "metadata": {
            "tags": []
          }
        }
      ]
    },
    {
      "cell_type": "code",
      "metadata": {
        "id": "35k0F3SqJDLy",
        "colab_type": "code",
        "colab": {
          "base_uri": "https://localhost:8080/",
          "height": 318
        },
        "outputId": "dc872f37-3e1b-4739-8faf-ef57a5039995"
      },
      "source": [
        " print(classification_report(y_test_e, predicted_classes_e_2, labels=range(10)))"
      ],
      "execution_count": 276,
      "outputs": [
        {
          "output_type": "stream",
          "text": [
            "              precision    recall  f1-score   support\n",
            "\n",
            "           0       0.85      0.83      0.84      1000\n",
            "           1       0.99      0.95      0.97      1000\n",
            "           2       0.81      0.79      0.80      1000\n",
            "           3       0.90      0.88      0.89      1000\n",
            "           4       0.77      0.85      0.81      1000\n",
            "           5       0.98      0.96      0.97      1000\n",
            "           6       0.72      0.69      0.70      1000\n",
            "           7       0.91      0.98      0.94      1000\n",
            "           8       0.96      0.97      0.97      1000\n",
            "           9       0.97      0.93      0.95      1000\n",
            "\n",
            "   micro avg       0.88      0.88      0.88     10000\n",
            "   macro avg       0.89      0.88      0.88     10000\n",
            "weighted avg       0.89      0.88      0.88     10000\n",
            " samples avg       0.88      0.88      0.88     10000\n",
            "\n"
          ],
          "name": "stdout"
        }
      ]
    },
    {
      "cell_type": "code",
      "metadata": {
        "id": "UqOxRbrvI9ya",
        "colab_type": "code",
        "colab": {
          "base_uri": "https://localhost:8080/",
          "height": 502
        },
        "outputId": "06aaafc2-1da3-41d0-ddbe-55bcc32ba005"
      },
      "source": [
        "multilabel_confusion_matrix(y_test_e, predicted_classes_e_2)"
      ],
      "execution_count": 277,
      "outputs": [
        {
          "output_type": "execute_result",
          "data": {
            "text/plain": [
              "array([[[8850,  150],\n",
              "        [ 166,  834]],\n",
              "\n",
              "       [[8992,    8],\n",
              "        [  46,  954]],\n",
              "\n",
              "       [[8809,  191],\n",
              "        [ 211,  789]],\n",
              "\n",
              "       [[8906,   94],\n",
              "        [ 119,  881]],\n",
              "\n",
              "       [[8743,  257],\n",
              "        [ 146,  854]],\n",
              "\n",
              "       [[8984,   16],\n",
              "        [  38,  962]],\n",
              "\n",
              "       [[8726,  274],\n",
              "        [ 307,  693]],\n",
              "\n",
              "       [[8907,   93],\n",
              "        [  22,  978]],\n",
              "\n",
              "       [[8956,   44],\n",
              "        [  26,  974]],\n",
              "\n",
              "       [[8975,   25],\n",
              "        [  71,  929]]])"
            ]
          },
          "metadata": {
            "tags": []
          },
          "execution_count": 277
        }
      ]
    },
    {
      "cell_type": "code",
      "metadata": {
        "id": "e5oqHMZ8JV25",
        "colab_type": "code",
        "colab": {}
      },
      "source": [
        ""
      ],
      "execution_count": 0,
      "outputs": []
    },
    {
      "cell_type": "markdown",
      "metadata": {
        "id": "XogkHf55bEbT",
        "colab_type": "text"
      },
      "source": [
        "### Задание 3"
      ]
    },
    {
      "cell_type": "markdown",
      "metadata": {
        "id": "EujkC4-SbEbY",
        "colab_type": "text"
      },
      "source": [
        "1. Найти 5 пар классов, которые чаще всего путаются между собой - объяснить с логической точки зрения почему. Привести примеры с картинками, которые были детектированы с ошибкой.\n",
        "2. Насколько равномерно обучилась ваша модель, а именно все ли классы определяются с примерно одинаковой точностью? Приведите доказательства вашей точки зрения, а также классы с самым лучшим и с самым худшим процентом детекции (точностью детекции).  \n",
        "**(max 2 балла)**"
      ]
    },
    {
      "cell_type": "markdown",
      "metadata": {
        "id": "knI7TJLQbEbe",
        "colab_type": "text"
      },
      "source": [
        "### Задание 4"
      ]
    },
    {
      "cell_type": "markdown",
      "metadata": {
        "id": "HHH6dULGbEbg",
        "colab_type": "text"
      },
      "source": [
        "Попробовать другие возможные архитектуры: большее/меньшее количество слоёв, свёрточные слои, использование весов из предобученных моделей и т.д. На сколько получится улучшить результат?  \n",
        "**(max 3 балла)**"
      ]
    }
  ]
}