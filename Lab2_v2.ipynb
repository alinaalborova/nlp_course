{
  "nbformat": 4,
  "nbformat_minor": 0,
  "metadata": {
    "kernelspec": {
      "display_name": "Python 3",
      "language": "python",
      "name": "python3"
    },
    "language_info": {
      "codemirror_mode": {
        "name": "ipython",
        "version": 3
      },
      "file_extension": ".py",
      "mimetype": "text/x-python",
      "name": "python",
      "nbconvert_exporter": "python",
      "pygments_lexer": "ipython3",
      "version": "3.7.1"
    },
    "colab": {
      "name": "Lab2_v2.ipynb",
      "provenance": [],
      "include_colab_link": true
    }
  },
  "cells": [
    {
      "cell_type": "markdown",
      "metadata": {
        "id": "view-in-github",
        "colab_type": "text"
      },
      "source": [
        "<a href=\"https://colab.research.google.com/github/alinaalborova/nlp_course/blob/master/Lab2_v2.ipynb\" target=\"_parent\"><img src=\"https://colab.research.google.com/assets/colab-badge.svg\" alt=\"Open In Colab\"/></a>"
      ]
    },
    {
      "cell_type": "markdown",
      "metadata": {
        "id": "NrcVPgnrbEZO",
        "colab_type": "text"
      },
      "source": [
        "# Майнор \"Интеллектуальный анализ данных\"\n",
        "# Курс \"Современные методы машинного обучения\"\n",
        "# Лабораторная работа №2. Распознование одежды."
      ]
    },
    {
      "cell_type": "markdown",
      "metadata": {
        "id": "jwS15_ydbEZU",
        "colab_type": "text"
      },
      "source": [
        "В данной лабораторной работе вам предлагается обучить модель на основе нейронной сети для распознавания типов одежды и сравнить ее с \"классическими\" моделями."
      ]
    },
    {
      "cell_type": "markdown",
      "metadata": {
        "id": "GSSGv3StbEZb",
        "colab_type": "text"
      },
      "source": [
        "## Данные"
      ]
    },
    {
      "cell_type": "code",
      "metadata": {
        "id": "Tn8r0N2NbEZe",
        "colab_type": "code",
        "colab": {}
      },
      "source": [
        "import numpy as np\n",
        "import pandas as pd\n",
        "import matplotlib.pyplot as plt"
      ],
      "execution_count": 0,
      "outputs": []
    },
    {
      "cell_type": "code",
      "metadata": {
        "id": "EmRMp8D9bEZo",
        "colab_type": "code",
        "colab": {}
      },
      "source": [
        "def load_mnist(path, kind='train'):\n",
        "    import os\n",
        "    import gzip\n",
        "    import numpy as np\n",
        "\n",
        "    \"\"\"Load MNIST data from `path`\"\"\"\n",
        "    labels_path = os.path.join(path,\n",
        "                               '%s-labels-idx1-ubyte.gz'\n",
        "                               % kind)\n",
        "    images_path = os.path.join(path,\n",
        "                               '%s-images-idx3-ubyte.gz'\n",
        "                               % kind)\n",
        "\n",
        "    with gzip.open(labels_path, 'rb') as lbpath:\n",
        "        labels = np.frombuffer(lbpath.read(), dtype=np.uint8,\n",
        "                               offset=8)\n",
        "\n",
        "    with gzip.open(images_path, 'rb') as imgpath:\n",
        "        images = np.frombuffer(imgpath.read(), dtype=np.uint8,\n",
        "                               offset=16).reshape(len(labels), 784)\n",
        "\n",
        "    return images, labels"
      ],
      "execution_count": 0,
      "outputs": []
    },
    {
      "cell_type": "code",
      "metadata": {
        "id": "eFTFFn9ZbEZt",
        "colab_type": "code",
        "colab": {}
      },
      "source": [
        "X_train, y_train = load_mnist('data', kind='train')\n",
        "X_test, y_test = load_mnist('data', kind='t10k')"
      ],
      "execution_count": 0,
      "outputs": []
    },
    {
      "cell_type": "code",
      "metadata": {
        "id": "exinoWUrbEZ6",
        "colab_type": "code",
        "colab": {},
        "outputId": "b6c39534-67f4-4513-b8db-b170739cc633"
      },
      "source": [
        "print('X_train shape:', X_train.shape, 'y_train shape:', y_train.shape, 'type', type(X_train))\n",
        "print('X_test shape:', X_test.shape, 'y_test shape', y_test.shape, 'type', type(X_test))"
      ],
      "execution_count": 0,
      "outputs": [
        {
          "output_type": "stream",
          "text": [
            "X_train shape: (60000, 784) y_train shape: (60000,) type <class 'numpy.ndarray'>\n",
            "X_test shape: (10000, 784) y_test shape (10000,) type <class 'numpy.ndarray'>\n"
          ],
          "name": "stdout"
        }
      ]
    },
    {
      "cell_type": "markdown",
      "metadata": {
        "id": "VH20N2RlbEaA",
        "colab_type": "text"
      },
      "source": [
        "Каждая строка в `X_train`, `X_test` - векторизованное монохромное изображение размерности  28×28  \n",
        "Каждая строка в `y_train`, `y_test` - метка класса для соответсвующей строчки из `X_train`, `X_test`\n"
      ]
    },
    {
      "cell_type": "code",
      "metadata": {
        "id": "wpcEIgB4bEaF",
        "colab_type": "code",
        "colab": {}
      },
      "source": [
        "labels_map  = pd.read_csv('data/labels_map.csv', index_col='Label')"
      ],
      "execution_count": 0,
      "outputs": []
    },
    {
      "cell_type": "markdown",
      "metadata": {
        "id": "-wBrIAiMbEaR",
        "colab_type": "text"
      },
      "source": [
        "Для каждого объекта из обучающей и тестовой выборки назначен один из следующих классов:"
      ]
    },
    {
      "cell_type": "code",
      "metadata": {
        "id": "n2S5yFUAbEaV",
        "colab_type": "code",
        "colab": {},
        "outputId": "c1cc6659-3eb8-4725-aeb9-77a641807097"
      },
      "source": [
        "labels_map"
      ],
      "execution_count": 0,
      "outputs": [
        {
          "output_type": "execute_result",
          "data": {
            "text/html": [
              "<div>\n",
              "<style scoped>\n",
              "    .dataframe tbody tr th:only-of-type {\n",
              "        vertical-align: middle;\n",
              "    }\n",
              "\n",
              "    .dataframe tbody tr th {\n",
              "        vertical-align: top;\n",
              "    }\n",
              "\n",
              "    .dataframe thead th {\n",
              "        text-align: right;\n",
              "    }\n",
              "</style>\n",
              "<table border=\"1\" class=\"dataframe\">\n",
              "  <thead>\n",
              "    <tr style=\"text-align: right;\">\n",
              "      <th></th>\n",
              "      <th>Description</th>\n",
              "    </tr>\n",
              "    <tr>\n",
              "      <th>Label</th>\n",
              "      <th></th>\n",
              "    </tr>\n",
              "  </thead>\n",
              "  <tbody>\n",
              "    <tr>\n",
              "      <th>0</th>\n",
              "      <td>T-shirt/top</td>\n",
              "    </tr>\n",
              "    <tr>\n",
              "      <th>1</th>\n",
              "      <td>Trouser</td>\n",
              "    </tr>\n",
              "    <tr>\n",
              "      <th>2</th>\n",
              "      <td>Pullover</td>\n",
              "    </tr>\n",
              "    <tr>\n",
              "      <th>3</th>\n",
              "      <td>Dress</td>\n",
              "    </tr>\n",
              "    <tr>\n",
              "      <th>4</th>\n",
              "      <td>Coat</td>\n",
              "    </tr>\n",
              "    <tr>\n",
              "      <th>5</th>\n",
              "      <td>Sandal</td>\n",
              "    </tr>\n",
              "    <tr>\n",
              "      <th>6</th>\n",
              "      <td>Shirt</td>\n",
              "    </tr>\n",
              "    <tr>\n",
              "      <th>7</th>\n",
              "      <td>Sneaker</td>\n",
              "    </tr>\n",
              "    <tr>\n",
              "      <th>8</th>\n",
              "      <td>Bag</td>\n",
              "    </tr>\n",
              "    <tr>\n",
              "      <th>9</th>\n",
              "      <td>Ankle boot</td>\n",
              "    </tr>\n",
              "  </tbody>\n",
              "</table>\n",
              "</div>"
            ],
            "text/plain": [
              "       Description\n",
              "Label             \n",
              "0      T-shirt/top\n",
              "1          Trouser\n",
              "2         Pullover\n",
              "3            Dress\n",
              "4             Coat\n",
              "5           Sandal\n",
              "6            Shirt\n",
              "7          Sneaker\n",
              "8              Bag\n",
              "9       Ankle boot"
            ]
          },
          "metadata": {
            "tags": []
          },
          "execution_count": 35
        }
      ]
    },
    {
      "cell_type": "code",
      "metadata": {
        "id": "Hh8ToJstbEaf",
        "colab_type": "code",
        "colab": {}
      },
      "source": [
        "pic_id = 35\n",
        "some_pic = X_train[pic_id]\n",
        "pic_label = y_train[pic_id]"
      ],
      "execution_count": 0,
      "outputs": []
    },
    {
      "cell_type": "code",
      "metadata": {
        "id": "UMtJbm2ZbEat",
        "colab_type": "code",
        "colab": {},
        "outputId": "2585ad6f-d129-454a-8719-d85074489b31"
      },
      "source": [
        "print('Letter class:', pic_label, '-', labels_map.loc[pic_label, 'Description'])"
      ],
      "execution_count": 0,
      "outputs": [
        {
          "output_type": "stream",
          "text": [
            "Letter class: 8 - Bag\n"
          ],
          "name": "stdout"
        }
      ]
    },
    {
      "cell_type": "code",
      "metadata": {
        "id": "6_uptH43bEay",
        "colab_type": "code",
        "colab": {},
        "outputId": "465ba3af-5e8e-4790-d147-194b183d69d3"
      },
      "source": [
        "plt.imshow(some_pic.reshape((28, 28)), cmap='gray')\n",
        "plt.show()"
      ],
      "execution_count": 0,
      "outputs": [
        {
          "output_type": "display_data",
          "data": {
            "image/png": "[encoded data removed]",
            "text/plain": [
              "<Figure size 432x288 with 1 Axes>"
            ]
          },
          "metadata": {
            "tags": [],
            "needs_background": "light"
          }
        }
      ]
    },
    {
      "cell_type": "markdown",
      "metadata": {
        "id": "qKyfaLfJbEa-",
        "colab_type": "text"
      },
      "source": [
        "## Задания"
      ]
    },
    {
      "cell_type": "markdown",
      "metadata": {
        "id": "_zeITL-ObEbA",
        "colab_type": "text"
      },
      "source": [
        "Обучение неоходимо проводить на данных из `X_train`, качество модели проверять на данных из файла `X_test`.\n",
        "Для моделирования желательно использовать библиотеки `keras` и `tensorflow`.  "
      ]
    },
    {
      "cell_type": "markdown",
      "metadata": {
        "id": "rPOYwHPWbEbB",
        "colab_type": "text"
      },
      "source": [
        "Оценивать качество моделей нужно следующим образом:  \n",
        "1. Построить кривую ROC  \n",
        "2. Посчитать ROC AUC  \n",
        "3. Построить кривую Precision - Recall  \n",
        "4. Вывести `classification_report` из `sklearn.metrics`  \n",
        "5. Посчитать confussion matrix  "
      ]
    },
    {
      "cell_type": "markdown",
      "metadata": {
        "id": "f_i1jfkPbEbD",
        "colab_type": "text"
      },
      "source": [
        "### Задание 1"
      ]
    },
    {
      "cell_type": "markdown",
      "metadata": {
        "id": "jH5qFBELbEbH",
        "colab_type": "text"
      },
      "source": [
        "Обучите классический алгоритм машинного обучения для этих данных (например, SVM, Random Forest или Gradient Boosting Trees), используя интенсивности пикселей в качестве входного вектора для классификации. Оцените ошибку.  \n",
        "**(max 3 балла)**"
      ]
    },
    {
      "cell_type": "markdown",
      "metadata": {
        "id": "wIwaNvKDbEbN",
        "colab_type": "text"
      },
      "source": [
        "### Задание 2"
      ]
    },
    {
      "cell_type": "markdown",
      "metadata": {
        "id": "7HRMDsKbbEbR",
        "colab_type": "text"
      },
      "source": [
        "1. Построить и обучить модели с 2-мя и 3-мя полносвязными (dense) скрытыми слоями.\n",
        "2. Попробовать разные параметры нейронной сети - число нейронов на каждом слое, learning rate, batch size, функции активации, регуляризации и т.д. \n",
        "3. Оценить качество моделей с различными параметрами, выбрать наилучшую из рассмотренных моделей.\n",
        "\n",
        "В начале можетбыть полезно ознакомиться с [руководством по созданию последовательных моделей в Keras](https://keras.io/getting-started/sequential-model-guide).  \n",
        "А так же с [функциональным API keras](https://keras.io/getting-started/functional-api-guide). \n",
        "Создание последовательных моделей немного проще, в то время как функциональное API предоставляет больше гибкости. Для целей лабораторной работы подойдет любое.  \n",
        "**(max 4 балла)**"
      ]
    },
    {
      "cell_type": "markdown",
      "metadata": {
        "id": "XogkHf55bEbT",
        "colab_type": "text"
      },
      "source": [
        "### Задание 3"
      ]
    },
    {
      "cell_type": "markdown",
      "metadata": {
        "id": "EujkC4-SbEbY",
        "colab_type": "text"
      },
      "source": [
        "1. Найти 5 пар классов, которые чаще всего путаются между собой - объяснить с логической точки зрения почему. Привести примеры с картинками, которые были детектированы с ошибкой.\n",
        "2. Насколько равномерно обучилась ваша модель, а именно все ли классы определяются с примерно одинаковой точностью? Приведите доказательства вашей точки зрения, а также классы с самым лучшим и с самым худшим процентом детекции (точностью детекции).  \n",
        "**(max 2 балла)**"
      ]
    },
    {
      "cell_type": "markdown",
      "metadata": {
        "id": "knI7TJLQbEbe",
        "colab_type": "text"
      },
      "source": [
        "### Задание 4"
      ]
    },
    {
      "cell_type": "markdown",
      "metadata": {
        "id": "HHH6dULGbEbg",
        "colab_type": "text"
      },
      "source": [
        "Попробовать другие возможные архитектуры: большее/меньшее количество слоёв, свёрточные слои, использование весов из предобученных моделей и т.д. На сколько получится улучшить результат?  \n",
        "**(max 3 балла)**"
      ]
    }
  ]
}